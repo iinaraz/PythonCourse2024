{
 "cells": [
  {
   "cell_type": "code",
   "execution_count": 1,
   "id": "2e8ffe0c-0e84-40cc-aaf4-5166bd813f4b",
   "metadata": {},
   "outputs": [
    {
     "name": "stdin",
     "output_type": "stream",
     "text": [
      "Width: 2\n",
      "Length: 3\n"
     ]
    },
    {
     "name": "stdout",
     "output_type": "stream",
     "text": [
      "('Area of a rectangle:', 6, 'Circumference of a rectangle:', 10)\n"
     ]
    },
    {
     "ename": "NameError",
     "evalue": "name 'width' is not defined",
     "output_type": "error",
     "traceback": [
      "\u001b[1;31m---------------------------------------------------------------------------\u001b[0m",
      "\u001b[1;31mNameError\u001b[0m                                 Traceback (most recent call last)",
      "Cell \u001b[1;32mIn[1], line 3\u001b[0m\n\u001b[0;32m      1\u001b[0m \u001b[38;5;28;01mfrom\u001b[39;00m \u001b[38;5;21;01mrectangle\u001b[39;00m \u001b[38;5;28;01mimport\u001b[39;00m calculate_rectangle\n\u001b[1;32m----> 3\u001b[0m calculate_rectangle(\u001b[43mwidth\u001b[49m, length)\n",
      "\u001b[1;31mNameError\u001b[0m: name 'width' is not defined"
     ]
    }
   ],
   "source": [
    "from rectangle import calculate_rectangle\n",
    "\n",
    "calculate_rectangle(width, length)"
   ]
  },
  {
   "cell_type": "code",
   "execution_count": 4,
   "id": "f350cc3d-80c5-4718-b47f-4eabf7e9973e",
   "metadata": {},
   "outputs": [
    {
     "ename": "NameError",
     "evalue": "name 'radius' is not defined",
     "output_type": "error",
     "traceback": [
      "\u001b[1;31m---------------------------------------------------------------------------\u001b[0m",
      "\u001b[1;31mNameError\u001b[0m                                 Traceback (most recent call last)",
      "Cell \u001b[1;32mIn[4], line 1\u001b[0m\n\u001b[1;32m----> 1\u001b[0m \u001b[38;5;28;01mfrom\u001b[39;00m \u001b[38;5;21;01mcircle\u001b[39;00m \u001b[38;5;28;01mimport\u001b[39;00m calculate_circle\n\u001b[0;32m      3\u001b[0m calculate_circle(radius)\n",
      "File \u001b[1;32m~\\Documents\\data_analysis\\PythonCourse\\PythonCourse2024\\day03\\circle.py:13\u001b[0m\n\u001b[0;32m     10\u001b[0m     \u001b[38;5;28;01mreturn\u001b[39;00m(\u001b[38;5;124m\"\u001b[39m\u001b[38;5;124mArea of the circle:\u001b[39m\u001b[38;5;124m\"\u001b[39m, math\u001b[38;5;241m.\u001b[39mpi \u001b[38;5;241m*\u001b[39m radius\u001b[38;5;241m*\u001b[39m\u001b[38;5;241m*\u001b[39m\u001b[38;5;241m2\u001b[39m, \u001b[38;5;124m\"\u001b[39m\u001b[38;5;124mCircumference of the circle:\u001b[39m\u001b[38;5;124m\"\u001b[39m, \u001b[38;5;241m2\u001b[39m\u001b[38;5;241m*\u001b[39mmath\u001b[38;5;241m.\u001b[39mpi\u001b[38;5;241m*\u001b[39mradius)\n\u001b[0;32m     12\u001b[0m \u001b[38;5;66;03m# Save answer to a variable\u001b[39;00m\n\u001b[1;32m---> 13\u001b[0m answer \u001b[38;5;241m=\u001b[39m calculate_circle(\u001b[43mradius\u001b[49m)\n\u001b[0;32m     15\u001b[0m \u001b[38;5;66;03m# Print answer\u001b[39;00m\n\u001b[0;32m     16\u001b[0m \u001b[38;5;28mprint\u001b[39m(answer)\n",
      "\u001b[1;31mNameError\u001b[0m: name 'radius' is not defined"
     ]
    }
   ],
   "source": [
    "from circle import calculate_circle\n",
    "\n",
    "calculate_circle(radius)"
   ]
  },
  {
   "cell_type": "code",
   "execution_count": null,
   "id": "5c5f371d-8de7-40bc-be4d-b5199737c95a",
   "metadata": {},
   "outputs": [],
   "source": []
  }
 ],
 "metadata": {
  "kernelspec": {
   "display_name": "Python 3 (ipykernel)",
   "language": "python",
   "name": "python3"
  },
  "language_info": {
   "codemirror_mode": {
    "name": "ipython",
    "version": 3
   },
   "file_extension": ".py",
   "mimetype": "text/x-python",
   "name": "python",
   "nbconvert_exporter": "python",
   "pygments_lexer": "ipython3",
   "version": "3.13.0"
  }
 },
 "nbformat": 4,
 "nbformat_minor": 5
}

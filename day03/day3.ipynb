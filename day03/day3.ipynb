{
 "cells": [
  {
   "cell_type": "code",
   "execution_count": 10,
   "id": "2e8ffe0c-0e84-40cc-aaf4-5166bd813f4b",
   "metadata": {},
   "outputs": [
    {
     "ename": "TypeError",
     "evalue": "calculate_rectangle() missing 2 required positional arguments: 'width' and 'length'",
     "output_type": "error",
     "traceback": [
      "\u001b[1;31m---------------------------------------------------------------------------\u001b[0m",
      "\u001b[1;31mTypeError\u001b[0m                                 Traceback (most recent call last)",
      "Cell \u001b[1;32mIn[10], line 3\u001b[0m\n\u001b[0;32m      1\u001b[0m \u001b[38;5;28;01mfrom\u001b[39;00m \u001b[38;5;21;01mrectangle\u001b[39;00m \u001b[38;5;28;01mimport\u001b[39;00m calculate_rectangle\n\u001b[1;32m----> 3\u001b[0m \u001b[43mcalculate_rectangle\u001b[49m\u001b[43m(\u001b[49m\u001b[43m)\u001b[49m\n",
      "\u001b[1;31mTypeError\u001b[0m: calculate_rectangle() missing 2 required positional arguments: 'width' and 'length'"
     ]
    }
   ],
   "source": [
    "from rectangle import calculate_rectangle\n",
    "\n",
    "calculate_rectangle()"
   ]
  },
  {
   "cell_type": "code",
   "execution_count": 11,
   "id": "f350cc3d-80c5-4718-b47f-4eabf7e9973e",
   "metadata": {},
   "outputs": [
    {
     "ename": "NameError",
     "evalue": "name 'radius' is not defined",
     "output_type": "error",
     "traceback": [
      "\u001b[1;31m---------------------------------------------------------------------------\u001b[0m",
      "\u001b[1;31mNameError\u001b[0m                                 Traceback (most recent call last)",
      "Cell \u001b[1;32mIn[11], line 3\u001b[0m\n\u001b[0;32m      1\u001b[0m \u001b[38;5;28;01mfrom\u001b[39;00m \u001b[38;5;21;01mcircle\u001b[39;00m \u001b[38;5;28;01mimport\u001b[39;00m calculate_circle\n\u001b[1;32m----> 3\u001b[0m calculate_circle(\u001b[43mradius\u001b[49m)\n",
      "\u001b[1;31mNameError\u001b[0m: name 'radius' is not defined"
     ]
    }
   ],
   "source": [
    "from circle import calculate_circle\n",
    "\n",
    "calculate_circle(radius)"
   ]
  },
  {
   "cell_type": "code",
   "execution_count": null,
   "id": "5c5f371d-8de7-40bc-be4d-b5199737c95a",
   "metadata": {},
   "outputs": [],
   "source": []
  }
 ],
 "metadata": {
  "kernelspec": {
   "display_name": "Python 3 (ipykernel)",
   "language": "python",
   "name": "python3"
  },
  "language_info": {
   "codemirror_mode": {
    "name": "ipython",
    "version": 3
   },
   "file_extension": ".py",
   "mimetype": "text/x-python",
   "name": "python",
   "nbconvert_exporter": "python",
   "pygments_lexer": "ipython3",
   "version": "3.13.0"
  }
 },
 "nbformat": 4,
 "nbformat_minor": 5
}

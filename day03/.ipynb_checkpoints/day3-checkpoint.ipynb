{
 "cells": [
  {
   "cell_type": "code",
   "execution_count": null,
   "id": "2e8ffe0c-0e84-40cc-aaf4-5166bd813f4b",
   "metadata": {},
   "outputs": [
    {
     "data": {
      "text/plain": [
       "('Area of a rectangle:', 4, 'Circumference of a rectangle:', 8)"
      ]
     },
     "execution_count": 3,
     "metadata": {},
     "output_type": "execute_result"
    }
   ],
   "source": [
    "from rectangle import calculate_rectangle\n",
    "\n",
    "calculate_rectangle(width, length)"
   ]
  },
  {
   "cell_type": "code",
   "execution_count": null,
   "id": "f350cc3d-80c5-4718-b47f-4eabf7e9973e",
   "metadata": {},
   "outputs": [
    {
     "data": {
      "text/plain": [
       "('Area of the circle:',\n",
       " 50.26548245743669,\n",
       " 'Circumference of the circle:',\n",
       " 25.132741228718345)"
      ]
     },
     "execution_count": 4,
     "metadata": {},
     "output_type": "execute_result"
    }
   ],
   "source": [
    "from circle import calculate_circle\n",
    "\n",
    "calculate_circle(radius)"
   ]
  },
  {
   "cell_type": "code",
   "execution_count": null,
   "id": "5c5f371d-8de7-40bc-be4d-b5199737c95a",
   "metadata": {},
   "outputs": [],
   "source": []
  }
 ],
 "metadata": {
  "kernelspec": {
   "display_name": "Python 3 (ipykernel)",
   "language": "python",
   "name": "python3"
  },
  "language_info": {
   "codemirror_mode": {
    "name": "ipython",
    "version": 3
   },
   "file_extension": ".py",
   "mimetype": "text/x-python",
   "name": "python",
   "nbconvert_exporter": "python",
   "pygments_lexer": "ipython3",
   "version": "3.13.0"
  }
 },
 "nbformat": 4,
 "nbformat_minor": 5
}

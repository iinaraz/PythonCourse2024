{
 "cells": [
  {
   "cell_type": "code",
   "execution_count": 4,
   "id": "c20a2f5e-0d28-4b62-afb9-e1d16cff119c",
   "metadata": {},
   "outputs": [],
   "source": [
    "import ncbi"
   ]
  },
  {
   "cell_type": "code",
   "execution_count": 5,
   "id": "4c6bee52-fd1c-4079-8ba8-85e4777eddcc",
   "metadata": {},
   "outputs": [
    {
     "name": "stdout",
     "output_type": "stream",
     "text": [
      "date,database,term,max,total\n",
      "New search\n",
      "('2024-12-15 15:31:01', 'nucleotide', 'Homo sapiens Psmb5', 10, 80)\n"
     ]
    }
   ],
   "source": [
    "!python ncbi.py --organism \"Homo sapiens\" --gene Psmb5"
   ]
  },
  {
   "cell_type": "code",
   "execution_count": 6,
   "id": "888c3f8a-dd89-4505-b24e-b86df3fd0c1a",
   "metadata": {},
   "outputs": [
    {
     "name": "stdout",
     "output_type": "stream",
     "text": [
      "date,database,term,max,total\n",
      "Search results exist\n",
      "2024-12-15 15:31:01, nucleotide, Homo sapiens Psmb5, 10, 80\n"
     ]
    }
   ],
   "source": [
    "!python ncbi.py --organism \"Homo sapiens\" --gene Psmb5"
   ]
  },
  {
   "cell_type": "code",
   "execution_count": null,
   "id": "ac9a7126-a175-4670-816b-640044f1ce2f",
   "metadata": {},
   "outputs": [],
   "source": []
  }
 ],
 "metadata": {
  "kernelspec": {
   "display_name": "Python 3 (ipykernel)",
   "language": "python",
   "name": "python3"
  },
  "language_info": {
   "codemirror_mode": {
    "name": "ipython",
    "version": 3
   },
   "file_extension": ".py",
   "mimetype": "text/x-python",
   "name": "python",
   "nbconvert_exporter": "python",
   "pygments_lexer": "ipython3",
   "version": "3.11.9"
  }
 },
 "nbformat": 4,
 "nbformat_minor": 5
}
